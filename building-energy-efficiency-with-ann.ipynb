{
 "cells": [
  {
   "cell_type": "markdown",
   "id": "79c8f9fa",
   "metadata": {
    "papermill": {
     "duration": 0.006137,
     "end_time": "2024-05-22T19:31:07.874572",
     "exception": false,
     "start_time": "2024-05-22T19:31:07.868435",
     "status": "completed"
    },
    "tags": []
   },
   "source": [
    "# **Importing the necessary libraries**\n",
    "\n",
    "> Yapay zekâ kütüphanesi olan **keras** kütüphanesinin **Sequential** fonksiyonu ile boş bir yapay sinir ağı modeli oluşturmak için gerekli olan sınıf çağrılır. \n",
    "\n",
    "> Yapay zekâ kütüphanesi olan **keras** kütüphanesinin **Dense, Input ve Dropout** fonksiyonu ile yapay sinir ağı tam bağlı katmanları tanımlamak için gerekli olan sınıf çağrılır. \n",
    "\n",
    "> Matematiksel dizi işlemlerini gerçekleştirmek için **numpy** kütüphanesi çağrılır. \n",
    "\n",
    "> Veri okuma işlemini gerçekleştirmek için **pandas** kütüphanesi çağrılır. \n",
    "\n",
    "> Veri setini bölmek için **sklearn.model_selection** kütüphanesinden **train_test_split** fonksiyonu çağrılır. \n",
    "\n",
    "> Model eğitiminden elde edilen sonuçları çizdirmek için **matplotlib.pyplot** kütüphanesi çağrılır. \n",
    "\n",
    "> sklearn kütüphanesinden **metrics** fonksiyonu ile modelin değerlendirebilmesi için gerekli fonksiyon çağrılır. \n",
    "\n",
    "> Veri ölçeklendirme işlemi için **sklearn.preprocessing** kütüphanesinden **StantardScaler** fonksiyonu çağrılır. \n",
    "\n",
    "> Yapay sinir ağı modeli oluşturmak için **tensorflow.keras.models** kütüphanesinden **Model** fonksiyonu çağrılır. \n",
    "\n",
    "> Yapay zekâ kütüphanesi olan **tensorflow** kütüphanesi çağrılır. \n",
    "\n",
    "> Yapay sinir ağı modeli eğitilirken istenilen doğruluk oranına ulaşıldığında eğitimin durması için **keras.callbacks** kütüphanesinden **EarlyStopping** fonksiyonu çağrılır. "
   ]
  },
  {
   "cell_type": "code",
   "execution_count": 1,
   "id": "248a7b50",
   "metadata": {
    "_cell_guid": "b1076dfc-b9ad-4769-8c92-a6c4dae69d19",
    "_uuid": "8f2839f25d086af736a60e9eeb907d3b93b6e0e5",
    "execution": {
     "iopub.execute_input": "2024-05-22T19:31:07.887919Z",
     "iopub.status.busy": "2024-05-22T19:31:07.887499Z",
     "iopub.status.idle": "2024-05-22T19:31:23.551133Z",
     "shell.execute_reply": "2024-05-22T19:31:23.550112Z"
    },
    "papermill": {
     "duration": 15.673871,
     "end_time": "2024-05-22T19:31:23.554028",
     "exception": false,
     "start_time": "2024-05-22T19:31:07.880157",
     "status": "completed"
    },
    "tags": []
   },
   "outputs": [
    {
     "name": "stderr",
     "output_type": "stream",
     "text": [
      "2024-05-22 19:31:10.232149: E external/local_xla/xla/stream_executor/cuda/cuda_dnn.cc:9261] Unable to register cuDNN factory: Attempting to register factory for plugin cuDNN when one has already been registered\n",
      "2024-05-22 19:31:10.232297: E external/local_xla/xla/stream_executor/cuda/cuda_fft.cc:607] Unable to register cuFFT factory: Attempting to register factory for plugin cuFFT when one has already been registered\n",
      "2024-05-22 19:31:10.391851: E external/local_xla/xla/stream_executor/cuda/cuda_blas.cc:1515] Unable to register cuBLAS factory: Attempting to register factory for plugin cuBLAS when one has already been registered\n"
     ]
    }
   ],
   "source": [
    "from keras.models import Sequential\n",
    "from keras.layers import Dense\n",
    "from tensorflow.keras.layers import Dense, Input, Dropout\n",
    "import numpy as np\n",
    "import pandas as pd\n",
    "from sklearn.model_selection import train_test_split\n",
    "import matplotlib.pyplot as plt\n",
    "from sklearn import metrics \n",
    "from sklearn.preprocessing import StandardScaler\n",
    "from tensorflow.keras.models import Model\n",
    "import tensorflow as tf\n",
    "from keras.callbacks import EarlyStopping"
   ]
  },
  {
   "cell_type": "markdown",
   "id": "bca7e87d",
   "metadata": {
    "papermill": {
     "duration": 0.005526,
     "end_time": "2024-05-22T19:31:23.578471",
     "exception": false,
     "start_time": "2024-05-22T19:31:23.572945",
     "status": "completed"
    },
    "tags": []
   },
   "source": [
    "# **Dividing the data set for input, output and training**\n",
    "\n",
    "> **pandas** kütüphanesinin **read_excel** özelliğini kullanarak veri seti ile aynı konumda olan kod dosyasının içerisindeki *‘ENB2012_data.xlsx’* veri dosyasını okuyarak dataset değişkenine aktarır. \n",
    "\n",
    "> **values** fonksiyonu ile excel veri seti dosyasındaki *başlıklar hariç* verileri okur ve \n",
    "> **iki boyutlu diziye** dönüştürür. \n",
    "\n",
    "> **dataset** değişkenindeki veri setindeki ilk sekiz sütunu **([:,0:8] )** giriş parametresi olarak ayarlayarak **“X”** değişkenine aktarır. \n",
    "\n",
    "> **dataset** değişkeninde yer alan veri setindeki dokuzuncu ve onuncu sütunu **([:,8:10] )** çıkış parametresi olarak ayarlayarak **“y”** değişkenine aktarır. \n",
    "\n",
    "> Veri setindeki eğitim ve test verilerini %80 eğitim, %20 test olacak şekilde **“test_size=0,2”** komutu kullanarak rastgele ayırır."
   ]
  },
  {
   "cell_type": "code",
   "execution_count": 2,
   "id": "ba70c1fa",
   "metadata": {
    "execution": {
     "iopub.execute_input": "2024-05-22T19:31:23.591532Z",
     "iopub.status.busy": "2024-05-22T19:31:23.590840Z",
     "iopub.status.idle": "2024-05-22T19:31:24.509499Z",
     "shell.execute_reply": "2024-05-22T19:31:24.508400Z"
    },
    "papermill": {
     "duration": 0.928045,
     "end_time": "2024-05-22T19:31:24.512148",
     "exception": false,
     "start_time": "2024-05-22T19:31:23.584103",
     "status": "completed"
    },
    "tags": []
   },
   "outputs": [],
   "source": [
    "dataset = pd.read_excel('/kaggle/input/bina-enerji-verimlilii-veri-seti/ENB2012_data.xlsx')\n",
    "dataset = dataset.values\n",
    "X = dataset[:, 0:8]\n",
    "y = dataset[:, 8:10]\n",
    "\n",
    "X_train, X_test, y_train, y_test = train_test_split(X, y, test_size=0.2, random_state=0)"
   ]
  },
  {
   "cell_type": "markdown",
   "id": "b3ab94f4",
   "metadata": {
    "papermill": {
     "duration": 0.004991,
     "end_time": "2024-05-22T19:31:24.522505",
     "exception": false,
     "start_time": "2024-05-22T19:31:24.517514",
     "status": "completed"
    },
    "tags": []
   },
   "source": [
    "# **Scaling of the dataset**\n",
    "\n",
    "> **StandardScaler** fonksiyonunu tanımlayarak **sc** değişkenine aktarır. Yani her özelliği *ortalaması 0 ve standart sapması 1* olacak şekilde dönüştürür. \n",
    "\n",
    "> Eğitim ve test giriş verilerinin **“fit_transform”** ve **“transform”** özellikleri kullanılarak ölçeklendirilir. \n",
    "\n",
    "> Ölçeklendirilen giriş ve çıkış verileri **numpy** kütüphanesi kullanılarak YSA ile eğitim yapabilmek için **array formatına** dönüştürülür.\n",
    "\n",
    "> Modelin iki çıktısı vardır: first_output ve second_output.\n",
    "> Verilerin Dağıtılması: model.fit fonksiyonunda verileri **[data_y_train[:, 0], data_y_train[:, 1]]** şeklinde kullanarak her bir çıktının hedef değerlerini doğru şekilde belirtmiş oluyoruz.\n",
    "> Tuple Gerekliliği: Tuple kullanmaya gerek yok çünkü modelin fit metodu doğrudan listelerle çalışacak şekilde tasarlanmıştır.\n",
    "\n",
    "> **\\ işareti**, Python'da satırın devam edeceğini belirtir. Bu, uzun kod satırlarının okunabilirliğini artırmak için kullanılır."
   ]
  },
  {
   "cell_type": "code",
   "execution_count": 3,
   "id": "54a72505",
   "metadata": {
    "execution": {
     "iopub.execute_input": "2024-05-22T19:31:24.536988Z",
     "iopub.status.busy": "2024-05-22T19:31:24.536294Z",
     "iopub.status.idle": "2024-05-22T19:31:24.546420Z",
     "shell.execute_reply": "2024-05-22T19:31:24.545386Z"
    },
    "papermill": {
     "duration": 0.020184,
     "end_time": "2024-05-22T19:31:24.549335",
     "exception": false,
     "start_time": "2024-05-22T19:31:24.529151",
     "status": "completed"
    },
    "tags": []
   },
   "outputs": [],
   "source": [
    "sc = StandardScaler()\n",
    "data_x_train_scaled = sc.fit_transform(X_train)\n",
    "data_x_test_scaled = sc.transform(X_test)\n",
    "\n",
    "data_x_train_scaled, data_x_test_scaled, data_y_train, data_y_test = \\\n",
    "    np.array(data_x_train_scaled), np.array(data_x_test_scaled), np.array(y_train), \\\n",
    "    np.array(y_test)"
   ]
  },
  {
   "cell_type": "markdown",
   "id": "e197e4a5",
   "metadata": {
    "papermill": {
     "duration": 0.005764,
     "end_time": "2024-05-22T19:31:24.560527",
     "exception": false,
     "start_time": "2024-05-22T19:31:24.554763",
     "status": "completed"
    },
    "tags": []
   },
   "source": [
    "# **Setup of the artificial neural network model**\n",
    "\n",
    "> Giriş parametresi ile eşit nöron sayılı **giriş katmanı** oluşturulur. \n",
    "\n",
    "> *128 nöronlu ve Relu aktivasyon* fonksiyonlu **ilk gizli katman**ı oluşturularak giriş katmanına bağlanır. \n",
    "\n",
    "> **“Dropout”** ilk gizli katmandaki **[0,3]** ifadesi ile %30 oranında önemsiz nöronlar dışarıya bırakılır (yani kullanılmaz). Dolayısıyla YSA modeli eğitim süreci hızlanır, **aşırı öğrenme (overfitting)** engellenir. \n",
    "\n",
    "> *128 nöronlu ve Relu aktivasyon* fonksiyonlu **ikinci gizli katman** oluşturularak ilk gizli katmana bağlanır. \n",
    "\n",
    "> **“Dropout”** ikinci gizli katmandaki **[0,3]** ifadesi ile %30 oranında önemsiz nöronlar dışarıya bırakılır (yani kullanılmaz). Dolayısıyla YSA modeli eğitim süreci hızlanır, aşırı öğrenme (overfitting) engellenir. \n",
    "\n",
    "> **Birinci çıkış parametresi** için tek **(1) nöronlu** son katmanı alır. \n",
    "\n",
    "> **İkinci çıkış** için kullanmak üzere *64 nöronlu gizli katmanı ve Relu aktivasyon* \n",
    "fonksiyonlu* **son gizli katman**ı oluşturur. \n",
    "\n",
    "> **“Dropout”** son gizli katmandaki **[0,3]** ifadesi ile %30 oranında önemsiz nöronlar dışarıya bırakılır (yani kullanılmaz). Dolayısıyla YSA modeli eğitim süreci hızlanır, aşırı öğrenme (overfitting) engellenir. \n",
    "\n",
    "> **İkinci çıkış** parametresi için tek (1) nöronlu son katmanı alır. \n",
    "\n",
    "> **“Model”** fonksiyonu kullanılarak YSA modelin giriş ve çıkış katmanları tanımlanarak *“model”* değişkenine aktarılır. \n",
    "\n",
    "> Oluşturulan yapay sinir ağı modelindeki nöronların, giriş çıkış parametrelerine ait özellikleri **“.summary”** fonksiyonu ile görür. "
   ]
  },
  {
   "cell_type": "code",
   "execution_count": 4,
   "id": "61bfdda9",
   "metadata": {
    "execution": {
     "iopub.execute_input": "2024-05-22T19:31:24.576044Z",
     "iopub.status.busy": "2024-05-22T19:31:24.575510Z",
     "iopub.status.idle": "2024-05-22T19:31:24.726212Z",
     "shell.execute_reply": "2024-05-22T19:31:24.725175Z"
    },
    "papermill": {
     "duration": 0.160889,
     "end_time": "2024-05-22T19:31:24.728917",
     "exception": false,
     "start_time": "2024-05-22T19:31:24.568028",
     "status": "completed"
    },
    "tags": []
   },
   "outputs": [
    {
     "data": {
      "text/html": [
       "<pre style=\"white-space:pre;overflow-x:auto;line-height:normal;font-family:Menlo,'DejaVu Sans Mono',consolas,'Courier New',monospace\"><span style=\"font-weight: bold\">Model: \"functional_1\"</span>\n",
       "</pre>\n"
      ],
      "text/plain": [
       "\u001b[1mModel: \"functional_1\"\u001b[0m\n"
      ]
     },
     "metadata": {},
     "output_type": "display_data"
    },
    {
     "data": {
      "text/html": [
       "<pre style=\"white-space:pre;overflow-x:auto;line-height:normal;font-family:Menlo,'DejaVu Sans Mono',consolas,'Courier New',monospace\">┏━━━━━━━━━━━━━━━━━━━━━┳━━━━━━━━━━━━━━━━━━━┳━━━━━━━━━━━━┳━━━━━━━━━━━━━━━━━━━┓\n",
       "┃<span style=\"font-weight: bold\"> Layer (type)        </span>┃<span style=\"font-weight: bold\"> Output Shape      </span>┃<span style=\"font-weight: bold\">    Param # </span>┃<span style=\"font-weight: bold\"> Connected to      </span>┃\n",
       "┡━━━━━━━━━━━━━━━━━━━━━╇━━━━━━━━━━━━━━━━━━━╇━━━━━━━━━━━━╇━━━━━━━━━━━━━━━━━━━┩\n",
       "│ Input_Layer         │ (<span style=\"color: #00d7ff; text-decoration-color: #00d7ff\">None</span>, <span style=\"color: #00af00; text-decoration-color: #00af00\">8</span>)         │          <span style=\"color: #00af00; text-decoration-color: #00af00\">0</span> │ -                 │\n",
       "│ (<span style=\"color: #0087ff; text-decoration-color: #0087ff\">InputLayer</span>)        │                   │            │                   │\n",
       "├─────────────────────┼───────────────────┼────────────┼───────────────────┤\n",
       "│ First_Dense (<span style=\"color: #0087ff; text-decoration-color: #0087ff\">Dense</span>) │ (<span style=\"color: #00d7ff; text-decoration-color: #00d7ff\">None</span>, <span style=\"color: #00af00; text-decoration-color: #00af00\">128</span>)       │      <span style=\"color: #00af00; text-decoration-color: #00af00\">1,152</span> │ Input_Layer[<span style=\"color: #00af00; text-decoration-color: #00af00\">0</span>][<span style=\"color: #00af00; text-decoration-color: #00af00\">0</span>] │\n",
       "├─────────────────────┼───────────────────┼────────────┼───────────────────┤\n",
       "│ dropout (<span style=\"color: #0087ff; text-decoration-color: #0087ff\">Dropout</span>)   │ (<span style=\"color: #00d7ff; text-decoration-color: #00d7ff\">None</span>, <span style=\"color: #00af00; text-decoration-color: #00af00\">128</span>)       │          <span style=\"color: #00af00; text-decoration-color: #00af00\">0</span> │ First_Dense[<span style=\"color: #00af00; text-decoration-color: #00af00\">0</span>][<span style=\"color: #00af00; text-decoration-color: #00af00\">0</span>] │\n",
       "├─────────────────────┼───────────────────┼────────────┼───────────────────┤\n",
       "│ Second_Dense        │ (<span style=\"color: #00d7ff; text-decoration-color: #00d7ff\">None</span>, <span style=\"color: #00af00; text-decoration-color: #00af00\">128</span>)       │     <span style=\"color: #00af00; text-decoration-color: #00af00\">16,512</span> │ dropout[<span style=\"color: #00af00; text-decoration-color: #00af00\">0</span>][<span style=\"color: #00af00; text-decoration-color: #00af00\">0</span>]     │\n",
       "│ (<span style=\"color: #0087ff; text-decoration-color: #0087ff\">Dense</span>)             │                   │            │                   │\n",
       "├─────────────────────┼───────────────────┼────────────┼───────────────────┤\n",
       "│ dropout_1 (<span style=\"color: #0087ff; text-decoration-color: #0087ff\">Dropout</span>) │ (<span style=\"color: #00d7ff; text-decoration-color: #00d7ff\">None</span>, <span style=\"color: #00af00; text-decoration-color: #00af00\">128</span>)       │          <span style=\"color: #00af00; text-decoration-color: #00af00\">0</span> │ Second_Dense[<span style=\"color: #00af00; text-decoration-color: #00af00\">0</span>][<span style=\"color: #00af00; text-decoration-color: #00af00\">…</span> │\n",
       "├─────────────────────┼───────────────────┼────────────┼───────────────────┤\n",
       "│ Second_Output__Fir… │ (<span style=\"color: #00d7ff; text-decoration-color: #00d7ff\">None</span>, <span style=\"color: #00af00; text-decoration-color: #00af00\">64</span>)        │      <span style=\"color: #00af00; text-decoration-color: #00af00\">8,256</span> │ dropout_1[<span style=\"color: #00af00; text-decoration-color: #00af00\">0</span>][<span style=\"color: #00af00; text-decoration-color: #00af00\">0</span>]   │\n",
       "│ (<span style=\"color: #0087ff; text-decoration-color: #0087ff\">Dense</span>)             │                   │            │                   │\n",
       "├─────────────────────┼───────────────────┼────────────┼───────────────────┤\n",
       "│ dropout_2 (<span style=\"color: #0087ff; text-decoration-color: #0087ff\">Dropout</span>) │ (<span style=\"color: #00d7ff; text-decoration-color: #00d7ff\">None</span>, <span style=\"color: #00af00; text-decoration-color: #00af00\">64</span>)        │          <span style=\"color: #00af00; text-decoration-color: #00af00\">0</span> │ Second_Output__F… │\n",
       "├─────────────────────┼───────────────────┼────────────┼───────────────────┤\n",
       "│ First_Output__Last… │ (<span style=\"color: #00d7ff; text-decoration-color: #00d7ff\">None</span>, <span style=\"color: #00af00; text-decoration-color: #00af00\">1</span>)         │        <span style=\"color: #00af00; text-decoration-color: #00af00\">129</span> │ dropout_1[<span style=\"color: #00af00; text-decoration-color: #00af00\">0</span>][<span style=\"color: #00af00; text-decoration-color: #00af00\">0</span>]   │\n",
       "│ (<span style=\"color: #0087ff; text-decoration-color: #0087ff\">Dense</span>)             │                   │            │                   │\n",
       "├─────────────────────┼───────────────────┼────────────┼───────────────────┤\n",
       "│ Second_Output__Las… │ (<span style=\"color: #00d7ff; text-decoration-color: #00d7ff\">None</span>, <span style=\"color: #00af00; text-decoration-color: #00af00\">1</span>)         │         <span style=\"color: #00af00; text-decoration-color: #00af00\">65</span> │ dropout_2[<span style=\"color: #00af00; text-decoration-color: #00af00\">0</span>][<span style=\"color: #00af00; text-decoration-color: #00af00\">0</span>]   │\n",
       "│ (<span style=\"color: #0087ff; text-decoration-color: #0087ff\">Dense</span>)             │                   │            │                   │\n",
       "└─────────────────────┴───────────────────┴────────────┴───────────────────┘\n",
       "</pre>\n"
      ],
      "text/plain": [
       "┏━━━━━━━━━━━━━━━━━━━━━┳━━━━━━━━━━━━━━━━━━━┳━━━━━━━━━━━━┳━━━━━━━━━━━━━━━━━━━┓\n",
       "┃\u001b[1m \u001b[0m\u001b[1mLayer (type)       \u001b[0m\u001b[1m \u001b[0m┃\u001b[1m \u001b[0m\u001b[1mOutput Shape     \u001b[0m\u001b[1m \u001b[0m┃\u001b[1m \u001b[0m\u001b[1m   Param #\u001b[0m\u001b[1m \u001b[0m┃\u001b[1m \u001b[0m\u001b[1mConnected to     \u001b[0m\u001b[1m \u001b[0m┃\n",
       "┡━━━━━━━━━━━━━━━━━━━━━╇━━━━━━━━━━━━━━━━━━━╇━━━━━━━━━━━━╇━━━━━━━━━━━━━━━━━━━┩\n",
       "│ Input_Layer         │ (\u001b[38;5;45mNone\u001b[0m, \u001b[38;5;34m8\u001b[0m)         │          \u001b[38;5;34m0\u001b[0m │ -                 │\n",
       "│ (\u001b[38;5;33mInputLayer\u001b[0m)        │                   │            │                   │\n",
       "├─────────────────────┼───────────────────┼────────────┼───────────────────┤\n",
       "│ First_Dense (\u001b[38;5;33mDense\u001b[0m) │ (\u001b[38;5;45mNone\u001b[0m, \u001b[38;5;34m128\u001b[0m)       │      \u001b[38;5;34m1,152\u001b[0m │ Input_Layer[\u001b[38;5;34m0\u001b[0m][\u001b[38;5;34m0\u001b[0m] │\n",
       "├─────────────────────┼───────────────────┼────────────┼───────────────────┤\n",
       "│ dropout (\u001b[38;5;33mDropout\u001b[0m)   │ (\u001b[38;5;45mNone\u001b[0m, \u001b[38;5;34m128\u001b[0m)       │          \u001b[38;5;34m0\u001b[0m │ First_Dense[\u001b[38;5;34m0\u001b[0m][\u001b[38;5;34m0\u001b[0m] │\n",
       "├─────────────────────┼───────────────────┼────────────┼───────────────────┤\n",
       "│ Second_Dense        │ (\u001b[38;5;45mNone\u001b[0m, \u001b[38;5;34m128\u001b[0m)       │     \u001b[38;5;34m16,512\u001b[0m │ dropout[\u001b[38;5;34m0\u001b[0m][\u001b[38;5;34m0\u001b[0m]     │\n",
       "│ (\u001b[38;5;33mDense\u001b[0m)             │                   │            │                   │\n",
       "├─────────────────────┼───────────────────┼────────────┼───────────────────┤\n",
       "│ dropout_1 (\u001b[38;5;33mDropout\u001b[0m) │ (\u001b[38;5;45mNone\u001b[0m, \u001b[38;5;34m128\u001b[0m)       │          \u001b[38;5;34m0\u001b[0m │ Second_Dense[\u001b[38;5;34m0\u001b[0m][\u001b[38;5;34m…\u001b[0m │\n",
       "├─────────────────────┼───────────────────┼────────────┼───────────────────┤\n",
       "│ Second_Output__Fir… │ (\u001b[38;5;45mNone\u001b[0m, \u001b[38;5;34m64\u001b[0m)        │      \u001b[38;5;34m8,256\u001b[0m │ dropout_1[\u001b[38;5;34m0\u001b[0m][\u001b[38;5;34m0\u001b[0m]   │\n",
       "│ (\u001b[38;5;33mDense\u001b[0m)             │                   │            │                   │\n",
       "├─────────────────────┼───────────────────┼────────────┼───────────────────┤\n",
       "│ dropout_2 (\u001b[38;5;33mDropout\u001b[0m) │ (\u001b[38;5;45mNone\u001b[0m, \u001b[38;5;34m64\u001b[0m)        │          \u001b[38;5;34m0\u001b[0m │ Second_Output__F… │\n",
       "├─────────────────────┼───────────────────┼────────────┼───────────────────┤\n",
       "│ First_Output__Last… │ (\u001b[38;5;45mNone\u001b[0m, \u001b[38;5;34m1\u001b[0m)         │        \u001b[38;5;34m129\u001b[0m │ dropout_1[\u001b[38;5;34m0\u001b[0m][\u001b[38;5;34m0\u001b[0m]   │\n",
       "│ (\u001b[38;5;33mDense\u001b[0m)             │                   │            │                   │\n",
       "├─────────────────────┼───────────────────┼────────────┼───────────────────┤\n",
       "│ Second_Output__Las… │ (\u001b[38;5;45mNone\u001b[0m, \u001b[38;5;34m1\u001b[0m)         │         \u001b[38;5;34m65\u001b[0m │ dropout_2[\u001b[38;5;34m0\u001b[0m][\u001b[38;5;34m0\u001b[0m]   │\n",
       "│ (\u001b[38;5;33mDense\u001b[0m)             │                   │            │                   │\n",
       "└─────────────────────┴───────────────────┴────────────┴───────────────────┘\n"
      ]
     },
     "metadata": {},
     "output_type": "display_data"
    },
    {
     "data": {
      "text/html": [
       "<pre style=\"white-space:pre;overflow-x:auto;line-height:normal;font-family:Menlo,'DejaVu Sans Mono',consolas,'Courier New',monospace\"><span style=\"font-weight: bold\"> Total params: </span><span style=\"color: #00af00; text-decoration-color: #00af00\">26,114</span> (102.01 KB)\n",
       "</pre>\n"
      ],
      "text/plain": [
       "\u001b[1m Total params: \u001b[0m\u001b[38;5;34m26,114\u001b[0m (102.01 KB)\n"
      ]
     },
     "metadata": {},
     "output_type": "display_data"
    },
    {
     "data": {
      "text/html": [
       "<pre style=\"white-space:pre;overflow-x:auto;line-height:normal;font-family:Menlo,'DejaVu Sans Mono',consolas,'Courier New',monospace\"><span style=\"font-weight: bold\"> Trainable params: </span><span style=\"color: #00af00; text-decoration-color: #00af00\">26,114</span> (102.01 KB)\n",
       "</pre>\n"
      ],
      "text/plain": [
       "\u001b[1m Trainable params: \u001b[0m\u001b[38;5;34m26,114\u001b[0m (102.01 KB)\n"
      ]
     },
     "metadata": {},
     "output_type": "display_data"
    },
    {
     "data": {
      "text/html": [
       "<pre style=\"white-space:pre;overflow-x:auto;line-height:normal;font-family:Menlo,'DejaVu Sans Mono',consolas,'Courier New',monospace\"><span style=\"font-weight: bold\"> Non-trainable params: </span><span style=\"color: #00af00; text-decoration-color: #00af00\">0</span> (0.00 B)\n",
       "</pre>\n"
      ],
      "text/plain": [
       "\u001b[1m Non-trainable params: \u001b[0m\u001b[38;5;34m0\u001b[0m (0.00 B)\n"
      ]
     },
     "metadata": {},
     "output_type": "display_data"
    },
    {
     "name": "stdout",
     "output_type": "stream",
     "text": [
      "None\n"
     ]
    }
   ],
   "source": [
    "input_layer = Input(shape=(data_x_train_scaled.shape[1],), name='Input_Layer')\n",
    "common_path = Dense(units=128, activation='relu', name='First_Dense')(input_layer)\n",
    "common_path = Dropout(0.3)(common_path)\n",
    "common_path = Dense(units=128, activation='relu', name='Second_Dense')(common_path)\n",
    "common_path = Dropout(0.3)(common_path)\n",
    "first_output = Dense(units=1, name='First_Output__Last_Layer')(common_path)\n",
    "second_output_path = Dense(units=64, activation='relu', name='Second_Output__First_Dense')(common_path)\n",
    "second_output_path = Dropout(0.3)(second_output_path)\n",
    "second_output = Dense(units=1, name='Second_Output__Last_Layer')(second_output_path)\n",
    "\n",
    "model = Model(inputs=input_layer, outputs=[first_output, second_output])\n",
    "print(model.summary())"
   ]
  },
  {
   "cell_type": "markdown",
   "id": "06ad74bf",
   "metadata": {
    "papermill": {
     "duration": 0.006022,
     "end_time": "2024-05-22T19:31:24.741358",
     "exception": false,
     "start_time": "2024-05-22T19:31:24.735336",
     "status": "completed"
    },
    "tags": []
   },
   "source": [
    "# **Defining the parameters of the artificial neural network model**\n",
    "\n",
    "> **“keras”** kütüphanesini **“optimizers”** sınıfı ile **SGD optimizasyon** yöntemi kullanılarak **öğrenme oranı (learning rate)** değeri *yüz binde bir (0,00001)* olarak belirlenip **“optimizer”** değişkenine aktarılmıştır. \n",
    "\n",
    "> **“compile”** fonksiyonu ile kayıp veri değerlerini **“mse (mean square error)”**,optimizasyon yöntemi olarak **“SGD”** ve ölçüm metriği olarak **“RootMeanSquaredError (RMSE)”** parametrelerine göre derler. \n",
    "\n",
    "> **“mse”**, ifadesinin makine öğrenmesi modelindeki ortalama kare hatayı hesaplamak için kullanılır. **”RootMeanSquaredError (RMSE)”** ifadesi, makine öğrenmesi modelinin tahmin ettiği değerler ile eğitim verisindeki gerçek değerler arasındaki uzaklığı hesaplar.\n",
    "\n",
    "> **Earlystopping** özelliği ile modelin eğitimi esnasında **“rmse”** değerinin stabil \n",
    "(durağan) olduğu durumda eğitimi durdurur. Kod satırlarında yer alan **“min_delta=0”** ifadesi \n",
    "modelin stabil kaldığı anlamına gelir. **“patience=10”** ifadesi ise eğitim esnasında *10 epoch* \n",
    "(tekrar) boyunca modelin doğruluğu değişmez ise eğitim durdurulur. **“verbose=1”** ise eğitim \n",
    "esnasında eğitim sonuçlarını ekranda gösterir. "
   ]
  },
  {
   "cell_type": "code",
   "execution_count": 5,
   "id": "6a7a9e55",
   "metadata": {
    "execution": {
     "iopub.execute_input": "2024-05-22T19:31:24.755700Z",
     "iopub.status.busy": "2024-05-22T19:31:24.755286Z",
     "iopub.status.idle": "2024-05-22T19:31:24.777035Z",
     "shell.execute_reply": "2024-05-22T19:31:24.776017Z"
    },
    "papermill": {
     "duration": 0.032019,
     "end_time": "2024-05-22T19:31:24.779688",
     "exception": false,
     "start_time": "2024-05-22T19:31:24.747669",
     "status": "completed"
    },
    "tags": []
   },
   "outputs": [],
   "source": [
    "optimizer = tf.keras.optimizers.SGD(learning_rate=0.00001)\n",
    "model.compile(optimizer=optimizer,\n",
    "              loss={'First_Output__Last_Layer': 'mse', 'Second_Output__Last_Layer': 'mse'},\n",
    "              metrics={'First_Output__Last_Layer': tf.keras.metrics.RootMeanSquaredError(),\n",
    "                       'Second_Output__Last_Layer': tf.keras.metrics.RootMeanSquaredError()})\n",
    "\n",
    "earlyStopping_callback = EarlyStopping(monitor='val_loss',\n",
    "                                       min_delta=0,\n",
    "                                       patience=10,\n",
    "                                       verbose=1) "
   ]
  },
  {
   "cell_type": "markdown",
   "id": "383168d7",
   "metadata": {
    "papermill": {
     "duration": 0.006184,
     "end_time": "2024-05-22T19:31:24.792476",
     "exception": false,
     "start_time": "2024-05-22T19:31:24.786292",
     "status": "completed"
    },
    "tags": []
   },
   "source": [
    "# **Training and prediction processes in artificial neural networks model**\n",
    "\n",
    "> **“model.fit”** komutu yazarak ölçeklendirilmiş giriş eğitim verilerine göre çıkış eğitim verileri için yapay sinir ağları ile eğitim gerçekleştirir. Burada her bir eğitim için **“batch_size”** fonksiyonuna aktarılan 10 değeri ile eğitime alınacak veri sayısı belirlenmektedir. \n",
    "\n",
    "> Yine **(epochs=500)**, **“verbose=0”** ifadeleri ile 500 adet eğitim gerçekleştirileceği ve her bir eğitimde elde edilecek sonuçların konsolda gösterilmeyeceği belirtilmektedir.\n",
    "\n",
    "> Eğitilen modelin doğrulaması eğitim verilerinin %30’u alınarak **(validation_split=0,3)** gerçekleştirilir. Ayrıca **callbacks** özelliği kapsamında **earlystopping_callback** tanımlanarak eğitimin erken durma özelliği aktif hale getirilmiştir. \n",
    " \n",
    "> YSA ile eğitim işlemi sonunda giriş test verilerine göre **“.predict”** fonksiyonu ile ısıtma ve soğutma yükü için tahminleme işlemini gerçekleştirir. \n",
    "\n",
    "> **“sklearn.metrics”** kütüphanesinden **“r2_score”** özelliğini yükler. \n",
    "\n",
    "> YSA modelinden elde edilen tahmin sonuçları ile gerçek sonuçlar karşılaştırılarak elde edilen iki boyutlu dizi sonuçları **“.flatten”** fonksiyonu kullanılarak *tek boyutlu* \n",
    "diziye çevrilir, sonuçlar **R2** performans ölçüt kriterine göre doğruluk değerleri **“print”** komutu kullanılarak konsola yazdırılır. \n",
    "\n",
    "> Regresyon analizlerinde, deneysel verilerin doğrusal bir eğriye ne kadar uyumlu olduğunu belirlemede **“Determinasyon katsayısı/R2”** değeri kullanılır. **R2=1** olması, deneysel verilerin kusursuz bir doğrusal eğri sağladığının kanıtıdır. \n",
    "\n"
   ]
  },
  {
   "cell_type": "code",
   "execution_count": 6,
   "id": "5b3ffd22",
   "metadata": {
    "execution": {
     "iopub.execute_input": "2024-05-22T19:31:24.807383Z",
     "iopub.status.busy": "2024-05-22T19:31:24.806992Z",
     "iopub.status.idle": "2024-05-22T19:31:43.984821Z",
     "shell.execute_reply": "2024-05-22T19:31:43.983391Z"
    },
    "papermill": {
     "duration": 19.188284,
     "end_time": "2024-05-22T19:31:43.987221",
     "exception": false,
     "start_time": "2024-05-22T19:31:24.798937",
     "status": "completed"
    },
    "tags": []
   },
   "outputs": [
    {
     "name": "stdout",
     "output_type": "stream",
     "text": [
      "Epoch 121: early stopping\n",
      "\u001b[1m5/5\u001b[0m \u001b[32m━━━━━━━━━━━━━━━━━━━━\u001b[0m\u001b[37m\u001b[0m \u001b[1m0s\u001b[0m 14ms/step\n",
      "İlk çıkışın R2 değeri : 0.8359591335371751\n",
      "İkinci çıkışın R2 değeri: 0.7740779330490707\n"
     ]
    }
   ],
   "source": [
    "history = model.fit(x=data_x_train_scaled, y=[data_y_train[:, 0], data_y_train[:, 1]], \n",
    "                    verbose=0, epochs=500, batch_size=10, validation_split=0.3, \n",
    "                    callbacks=earlyStopping_callback)\n",
    "\n",
    "y_pred = np.array(model.predict(data_x_test_scaled))\n",
    "\n",
    "from sklearn.metrics import r2_score\n",
    "print(\"İlk çıkışın R2 değeri :\", r2_score(data_y_test[:, 0], y_pred[0].flatten()))\n",
    "print(\"İkinci çıkışın R2 değeri:\", r2_score(data_y_test[:, 1], y_pred[1].flatten()))"
   ]
  },
  {
   "cell_type": "markdown",
   "id": "0b3285d9",
   "metadata": {
    "papermill": {
     "duration": 0.006615,
     "end_time": "2024-05-22T19:31:44.000888",
     "exception": false,
     "start_time": "2024-05-22T19:31:43.994273",
     "status": "completed"
    },
    "tags": []
   },
   "source": [
    "# **Drawing training and validation graphs based on lost output data from the ANN model**\n",
    "\n",
    "> Isıtma ve soğutma yüküne ait kayıp çıkış verilerine göre *eğitim ve doğrulama grafikleri* çizdirilmiştir.\n",
    "\n",
    "> **İlk çıkış** için **RMSE kayıp değerleri**,**ikinci çıkış** için **RMSE kayıp değerleri**ne ait grafikler çizdirilmiştir. \n",
    "\n",
    "> Grafikler incelendiğinde eğitim ve test verilerindeki kayıp veri oranlarının azalması modelin doğru biçimde eğitildiğinin göstergesidir. "
   ]
  },
  {
   "cell_type": "code",
   "execution_count": 7,
   "id": "08210267",
   "metadata": {
    "execution": {
     "iopub.execute_input": "2024-05-22T19:31:44.016910Z",
     "iopub.status.busy": "2024-05-22T19:31:44.015979Z",
     "iopub.status.idle": "2024-05-22T19:31:44.650446Z",
     "shell.execute_reply": "2024-05-22T19:31:44.649347Z"
    },
    "papermill": {
     "duration": 0.645352,
     "end_time": "2024-05-22T19:31:44.653075",
     "exception": false,
     "start_time": "2024-05-22T19:31:44.007723",
     "status": "completed"
    },
    "tags": []
   },
   "outputs": [
    {
     "data": {
      "image/png": "[encoded data removed]",
      "text/plain": [
       "<Figure size 640x480 with 1 Axes>"
      ]
     },
     "metadata": {},
     "output_type": "display_data"
    },
    {
     "data": {
      "image/png": "[encoded data removed]",
      "text/plain": [
       "<Figure size 640x480 with 1 Axes>"
      ]
     },
     "metadata": {},
     "output_type": "display_data"
    }
   ],
   "source": [
    "plt.plot(history.history['First_Output__Last_Layer_root_mean_squared_error'])\n",
    "plt.plot(history.history['val_First_Output__Last_Layer_root_mean_squared_error'])\n",
    "plt.title('Model\\'s İlk Çıkış için RMSE Kayıp Değerleri')\n",
    "plt.ylabel('RMSE')\n",
    "plt.xlabel('Epoch')\n",
    "plt.legend(['Train', 'Test'], loc='upper right')\n",
    "plt.show()\n",
    "plt.figure()\n",
    "\n",
    "plt.plot(history.history['Second_Output__Last_Layer_root_mean_squared_error'])\n",
    "plt.plot(history.history['val_Second_Output__Last_Layer_root_mean_squared_error'])\n",
    "plt.title('Model\\'s İkinci Çıkış için RMSE Kayıp Değerleri')\n",
    "plt.ylabel('RMSE')\n",
    "plt.xlabel('Epoch')\n",
    "plt.legend(['Train', 'Test'], loc='upper right')\n",
    "plt.show()"
   ]
  }
 ],
 "metadata": {
  "kaggle": {
   "accelerator": "none",
   "dataSources": [
    {
     "datasetId": 5063717,
     "sourceId": 8488131,
     "sourceType": "datasetVersion"
    }
   ],
   "dockerImageVersionId": 30698,
   "isGpuEnabled": false,
   "isInternetEnabled": true,
   "language": "python",
   "sourceType": "notebook"
  },
  "kernelspec": {
   "display_name": "Python 3",
   "language": "python",
   "name": "python3"
  },
  "language_info": {
   "codemirror_mode": {
    "name": "ipython",
    "version": 3
   },
   "file_extension": ".py",
   "mimetype": "text/x-python",
   "name": "python",
   "nbconvert_exporter": "python",
   "pygments_lexer": "ipython3",
   "version": "3.10.13"
  },
  "papermill": {
   "default_parameters": {},
   "duration": 42.105964,
   "end_time": "2024-05-22T19:31:46.986650",
   "environment_variables": {},
   "exception": null,
   "input_path": "__notebook__.ipynb",
   "output_path": "__notebook__.ipynb",
   "parameters": {},
   "start_time": "2024-05-22T19:31:04.880686",
   "version": "2.5.0"
  }
 },
 "nbformat": 4,
 "nbformat_minor": 5
}
